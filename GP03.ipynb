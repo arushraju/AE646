{
 "cells": [
  {
   "cell_type": "markdown",
   "id": "172cc0f2-7958-4754-8dea-ad2065490e3f",
   "metadata": {},
   "source": [
    "This is to install the library deepXDE that will be used in GP03"
   ]
  },
  {
   "cell_type": "code",
   "execution_count": 4,
   "id": "b9ebeb20-b1b6-4b2a-a436-9f89ffc97d9a",
   "metadata": {
    "scrolled": true
   },
   "outputs": [
    {
     "name": "stdout",
     "output_type": "stream",
     "text": [
      "Requirement already satisfied: deepxde in c:\\users\\arush chinchkhede\\anaconda3\\lib\\site-packages (1.12.1)\n",
      "Requirement already satisfied: matplotlib in c:\\users\\arush chinchkhede\\anaconda3\\lib\\site-packages (from deepxde) (3.9.2)\n",
      "Requirement already satisfied: numpy in c:\\users\\arush chinchkhede\\anaconda3\\lib\\site-packages (from deepxde) (1.26.4)\n",
      "Requirement already satisfied: scikit-learn in c:\\users\\arush chinchkhede\\anaconda3\\lib\\site-packages (from deepxde) (1.2.2)\n",
      "Requirement already satisfied: scikit-optimize>=0.9.0 in c:\\users\\arush chinchkhede\\anaconda3\\lib\\site-packages (from deepxde) (0.10.2)\n",
      "Requirement already satisfied: scipy in c:\\users\\arush chinchkhede\\anaconda3\\lib\\site-packages (from deepxde) (1.11.4)\n",
      "Requirement already satisfied: joblib>=0.11 in c:\\users\\arush chinchkhede\\anaconda3\\lib\\site-packages (from scikit-optimize>=0.9.0->deepxde) (1.2.0)\n",
      "Requirement already satisfied: pyaml>=16.9 in c:\\users\\arush chinchkhede\\anaconda3\\lib\\site-packages (from scikit-optimize>=0.9.0->deepxde) (24.9.0)\n",
      "Requirement already satisfied: packaging>=21.3 in c:\\users\\arush chinchkhede\\anaconda3\\lib\\site-packages (from scikit-optimize>=0.9.0->deepxde) (23.1)\n",
      "Requirement already satisfied: threadpoolctl>=2.0.0 in c:\\users\\arush chinchkhede\\anaconda3\\lib\\site-packages (from scikit-learn->deepxde) (2.2.0)\n",
      "Requirement already satisfied: contourpy>=1.0.1 in c:\\users\\arush chinchkhede\\anaconda3\\lib\\site-packages (from matplotlib->deepxde) (1.2.0)\n",
      "Requirement already satisfied: cycler>=0.10 in c:\\users\\arush chinchkhede\\anaconda3\\lib\\site-packages (from matplotlib->deepxde) (0.11.0)\n",
      "Requirement already satisfied: fonttools>=4.22.0 in c:\\users\\arush chinchkhede\\anaconda3\\lib\\site-packages (from matplotlib->deepxde) (4.25.0)\n",
      "Requirement already satisfied: kiwisolver>=1.3.1 in c:\\users\\arush chinchkhede\\anaconda3\\lib\\site-packages (from matplotlib->deepxde) (1.4.4)\n",
      "Requirement already satisfied: pillow>=8 in c:\\users\\arush chinchkhede\\anaconda3\\lib\\site-packages (from matplotlib->deepxde) (10.2.0)\n",
      "Requirement already satisfied: pyparsing>=2.3.1 in c:\\users\\arush chinchkhede\\anaconda3\\lib\\site-packages (from matplotlib->deepxde) (3.0.9)\n",
      "Requirement already satisfied: python-dateutil>=2.7 in c:\\users\\arush chinchkhede\\anaconda3\\lib\\site-packages (from matplotlib->deepxde) (2.8.2)\n",
      "Requirement already satisfied: PyYAML in c:\\users\\arush chinchkhede\\anaconda3\\lib\\site-packages (from pyaml>=16.9->scikit-optimize>=0.9.0->deepxde) (6.0.1)\n",
      "Requirement already satisfied: six>=1.5 in c:\\users\\arush chinchkhede\\anaconda3\\lib\\site-packages (from python-dateutil>=2.7->matplotlib->deepxde) (1.16.0)\n"
     ]
    }
   ],
   "source": [
    "!pip install deepxde"
   ]
  },
  {
   "cell_type": "markdown",
   "id": "3be0be52-3fd6-4994-9e25-32bee91961bd",
   "metadata": {},
   "source": [
    "To Import important libraries to work with."
   ]
  },
  {
   "cell_type": "code",
   "execution_count": 5,
   "id": "000634ac-2b48-429b-b383-cdaad8dbf62e",
   "metadata": {},
   "outputs": [
    {
     "name": "stderr",
     "output_type": "stream",
     "text": [
      "Using backend: tensorflow.compat.v1\n",
      "Other supported backends: tensorflow, pytorch, jax, paddle.\n",
      "paddle supports more examples now and is recommended.\n"
     ]
    },
    {
     "name": "stdout",
     "output_type": "stream",
     "text": [
      "WARNING:tensorflow:From C:\\Users\\Arush Chinchkhede\\anaconda3\\Lib\\site-packages\\deepxde\\backend\\tensorflow_compat_v1\\tensor.py:25: The name tf.disable_v2_behavior is deprecated. Please use tf.compat.v1.disable_v2_behavior instead.\n",
      "\n",
      "WARNING:tensorflow:From C:\\Users\\Arush Chinchkhede\\anaconda3\\Lib\\site-packages\\tensorflow\\python\\compat\\v2_compat.py:98: disable_resource_variables (from tensorflow.python.ops.resource_variables_toggle) is deprecated and will be removed in a future version.\n",
      "Instructions for updating:\n",
      "non-resource variables are not supported in the long term\n"
     ]
    }
   ],
   "source": [
    "import numpy as np\n",
    "import matplotlib.pyplot as plt\n",
    "import deepxde as dde\n",
    "import deepxde.backend as tf\n",
    "import pandas as pd"
   ]
  },
  {
   "cell_type": "markdown",
   "id": "4db06083-71bb-4d84-9747-6346467070d5",
   "metadata": {},
   "source": [
    "# Domain of analyisis\n",
    "this defines the domain to be a rectangle of lenght 20 and height 10 units."
   ]
  },
  {
   "cell_type": "code",
   "execution_count": 6,
   "id": "1c1fab19-355c-4663-975a-8637f1437b33",
   "metadata": {},
   "outputs": [],
   "source": [
    "x_max = 10\n",
    "x_min = -10\n",
    "y_max = 5\n",
    "y_min = -5\n",
    "\n",
    "geom = dde.geometry.Rectangle([x_min, y_min], [x_max, y_max])"
   ]
  },
  {
   "cell_type": "markdown",
   "id": "153251a3-ac87-4332-8324-d5ea1ce7a5b9",
   "metadata": {},
   "source": [
    "This uploads the cvs file that will contain the airfoil profile, needed for setting up the boundary condition"
   ]
  },
  {
   "cell_type": "code",
   "execution_count": 7,
   "id": "bc7e3c35-7f53-474e-b90e-6735510cf6f9",
   "metadata": {},
   "outputs": [],
   "source": [
    "df = pd.read_csv('1550 Airfoil_data.csv')"
   ]
  },
  {
   "cell_type": "code",
   "execution_count": 8,
   "id": "6c0fa7bc-9fd3-4f1c-9bdf-697b801ca39c",
   "metadata": {},
   "outputs": [],
   "source": [
    "x_values = df['Points:0']\n",
    "y_values = df['Points:1']\n",
    "U = df[('U:0')]\n",
    "V = df[('U:1')]"
   ]
  },
  {
   "cell_type": "markdown",
   "id": "9bf5e819-865f-42e1-a38a-f6d6242288c3",
   "metadata": {},
   "source": [
    "We have imported the points needed to plot the airfoil. And to test wheter the points are imported correctly, we have plotted airfoil below."
   ]
  },
  {
   "cell_type": "code",
   "execution_count": 9,
   "id": "65e4d004-76c4-481b-ad63-e4fbb1fe3be9",
   "metadata": {},
   "outputs": [
    {
     "data": {
      "text/plain": [
       "(-0.75, 0.75)"
      ]
     },
     "execution_count": 9,
     "metadata": {},
     "output_type": "execute_result"
    },
    {
     "data": {
      "image/png": "[encoded data removed]",
      "text/plain": [
       "<Figure size 640x480 with 1 Axes>"
      ]
     },
     "metadata": {},
     "output_type": "display_data"
    }
   ],
   "source": [
    "plt.scatter(x_values,y_values)\n",
    "plt.xlim(-0.3,1.2)\n",
    "plt.ylim(-0.75,0.75)"
   ]
  },
  {
   "cell_type": "markdown",
   "id": "b925704d-62ac-4d5b-9b0d-77c2bd7a52e2",
   "metadata": {},
   "source": [
    "Since the domain contains all the points except the points at the boundary of the airfoil that we need, thus from all the points in the domain we will pick the points of the domain where the velocity of the fluid is zero due o no slip. This would represent the geometry of airfoil."
   ]
  },
  {
   "cell_type": "code",
   "execution_count": 10,
   "id": "b1fc847c-f9f3-495a-8601-5b1cc6155555",
   "metadata": {},
   "outputs": [],
   "source": [
    "x_geo = []\n",
    "y_geo = []\n",
    "\n",
    "for i in range (len(x_values)):\n",
    "    if U[i] == 0 and V[i] == 0:\n",
    "        x_geo.append(x_values[i])\n",
    "        y_geo.append(y_values[i])"
   ]
  },
  {
   "cell_type": "code",
   "execution_count": 11,
   "id": "15873466-a2df-47dc-a3b3-b3077c9a1caa",
   "metadata": {},
   "outputs": [
    {
     "data": {
      "text/plain": [
       "Text(0.5, 1.0, 'The Airfoil Cross section')"
      ]
     },
     "execution_count": 11,
     "metadata": {},
     "output_type": "execute_result"
    },
    {
     "data": {
      "image/png": "[encoded data removed]",
      "text/plain": [
       "<Figure size 640x480 with 1 Axes>"
      ]
     },
     "metadata": {},
     "output_type": "display_data"
    }
   ],
   "source": [
    "plt.scatter(x_geo,y_geo,s=1)\n",
    "plt.xlim(-0.3,1.2)\n",
    "plt.ylim(-0.75,0.75)\n",
    "plt.title(\"The Airfoil Cross section\")"
   ]
  },
  {
   "cell_type": "markdown",
   "id": "17707554-815d-4dbe-9f29-5a16ef46a7bc",
   "metadata": {},
   "source": [
    "Now lets define the properties of fluid like Density and Viscosity"
   ]
  },
  {
   "cell_type": "code",
   "execution_count": 12,
   "id": "4ef90b01-ff01-4b1f-aa56-331a1b016e43",
   "metadata": {},
   "outputs": [],
   "source": [
    "d = 1 # Density. For simplicity, taken to be 1\n",
    "m = 1 # Viscocity. For simplicity taken to be 1"
   ]
  },
  {
   "cell_type": "code",
   "execution_count": 13,
   "id": "2400e5af-c908-4fa5-8c2f-c600bf7a2ef0",
   "metadata": {},
   "outputs": [],
   "source": [
    "def Governing_equation(X,y):\n",
    "    # Note that X[0] is x cordinate of domain and X[1] is y cordiante of domain\n",
    "    # And Y[0] is the u velocity, Y[1] is the v velocity and Y[2] is the pressure\n",
    "    u = y[:,0:1]\n",
    "    v = y[:,1:2]\n",
    "    p = y[:,2:3]\n",
    "\n",
    "    x = X[:,0:1]\n",
    "    y = X[:,1:2]\n",
    "    \n",
    "    du_dx = dde.grad.jacobian(u,x,i=0,j=0)\n",
    "    du_dy = dde.grad.jacobian(u,y,i=0,j=0)\n",
    "    dv_dx = dde.grad.jacobian(v,x,i=0,j=0)\n",
    "    dv_dy = dde.grad.jacobian(v,y,i=0,j=0)\n",
    "    dp_dx = dde.grad.jacobian(p,x,i=0,j=0)\n",
    "    dp_dy = dde.grad.jacobian(p,y,i=0,j=0)\n",
    "\n",
    "    ddu_ddx = dde.grad.hessian(u,x,i=0,j=0)\n",
    "    ddu_ddy = dde.grad.hessian(u,y,i=0,j=0)\n",
    "    ddv_ddx = dde.grad.hessian(v,x,i=0,j=0)\n",
    "    ddv_ddy = dde.grad.hessian(v,y,i=0,j=0)\n",
    "  \n",
    "    Continuity_equation = du_dx + dv_dy\n",
    "    X_momentum = u*du_dx + v*du_dy + dp_dx - (1/Re)*(ddu_ddx + ddu_ddy)\n",
    "    Y_momentum = u*dv_dx + v*dv_dy + dp_dy - (1/Re)*(ddv_ddx + ddv_ddy)\n",
    "    \n",
    "    return [Continuity_equation , X_momentum , Y_momentum]"
   ]
  },
  {
   "cell_type": "code",
   "execution_count": 14,
   "id": "8e982b0d-68e9-40d6-a52c-a720ffcd5c6e",
   "metadata": {},
   "outputs": [],
   "source": [
    "# If we define some inlet flow (Reynold's Number)\n",
    "U_inlet = 1"
   ]
  },
  {
   "cell_type": "code",
   "execution_count": 25,
   "id": "17910101-24db-42c6-b79a-de0afef7fe5b",
   "metadata": {},
   "outputs": [],
   "source": [
    "# If we assume that the gauge pressure at the free stream is zero then the inlet condtion w=can be written as [U,V,P] = [U,0,0]\n",
    "Inlet_bc = dde.icbc.DirichletBC(\n",
    "    geom,\n",
    "    lambda x: [U_inlet,0], # U_inlet for U,0 for V\n",
    "    lambda x, on_boundary: (x == x_min) & on_boundary\n",
    ")\n",
    "\n",
    "# The boundary condition at the other three sides of the rectangle noting the out flow\n",
    "Outflow_bc = dde.icbc.NeumannBC(\n",
    "    geom,\n",
    "    lambda x: [0,0], # Shear stress on fluid ar the boundady is zero\n",
    "    lambda x,y : (x == x_min) or (y == y_max) or (y == y_min)\n",
    ")\n",
    "\n",
    "# The boundary condition at the boundary of airfoil\n",
    "Airfoil_bc = dde.icbc.DirichletBC(\n",
    "    geom,\n",
    "    lambda x: [0,0], # No spil condition\n",
    "    lambda x,y : (x == x_geo) and (y == y_geo)\n",
    ")"
   ]
  }
 ],
 "metadata": {
  "kernelspec": {
   "display_name": "Python 3 (ipykernel)",
   "language": "python",
   "name": "python3"
  },
  "language_info": {
   "codemirror_mode": {
    "name": "ipython",
    "version": 3
   },
   "file_extension": ".py",
   "mimetype": "text/x-python",
   "name": "python",
   "nbconvert_exporter": "python",
   "pygments_lexer": "ipython3",
   "version": "3.11.7"
  }
 },
 "nbformat": 4,
 "nbformat_minor": 5
}
