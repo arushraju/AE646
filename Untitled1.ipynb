{
 "cells": [
  {
   "cell_type": "markdown",
   "id": "7b3022a8-4568-4f19-8e19-4750fcaf712b",
   "metadata": {},
   "source": [
    "# Hyper Cube Solver\n",
    "Being done with the 3x3 Rubiks cube solver I think its time we go one building a hypercube solver in python. I am not sure what challenges I will face, but as they say \"Don't give up\". This code is completly inspired from my previous 3x3 rubiks cube solver  ***Erno's Enigma*** code written in C language."
   ]
  },
  {
   "cell_type": "markdown",
   "id": "9b70b8ea-26c8-49b1-b64e-c0a6d5c6b4e8",
   "metadata": {},
   "source": [
    "This block of code takes the input from the user about the Dimensions of the cube. May be anything from 2 to n"
   ]
  },
  {
   "cell_type": "code",
   "execution_count": 20,
   "id": "93b7c5bb-ccb7-4426-b191-92ad9a1215b0",
   "metadata": {},
   "outputs": [
    {
     "name": "stdin",
     "output_type": "stream",
     "text": [
      "enter the size of matrix :  3\n"
     ]
    }
   ],
   "source": [
    "# n represents the dimension of cube\n",
    "n = int(input(\"enter the size of matrix : \"))"
   ]
  },
  {
   "cell_type": "markdown",
   "id": "3c4d2799-4c5f-4e1e-a5bb-f79c138f2b9f",
   "metadata": {},
   "source": [
    "Now that we got the dimension of our cube, its time to set up a matrix that would virtually represent our rubiks cube"
   ]
  },
  {
   "cell_type": "code",
   "execution_count": null,
   "id": "fa7d9770-5266-42d0-867a-bff9bd599c79",
   "metadata": {},
   "outputs": [],
   "source": [
    "# Cube is the name of n*n array that represnts the state of rubik's cube\n",
    "cube = ["
   ]
  }
 ],
 "metadata": {
  "kernelspec": {
   "display_name": "Python 3 (ipykernel)",
   "language": "python",
   "name": "python3"
  },
  "language_info": {
   "codemirror_mode": {
    "name": "ipython",
    "version": 3
   },
   "file_extension": ".py",
   "mimetype": "text/x-python",
   "name": "python",
   "nbconvert_exporter": "python",
   "pygments_lexer": "ipython3",
   "version": "3.11.7"
  }
 },
 "nbformat": 4,
 "nbformat_minor": 5
}
