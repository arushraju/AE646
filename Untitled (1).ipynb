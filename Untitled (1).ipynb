{
 "cells": [
  {
   "cell_type": "code",
   "execution_count": 1,
   "id": "eb61bf2c-9ab4-418d-8fc7-e2719b594daa",
   "metadata": {},
   "outputs": [
    {
     "name": "stderr",
     "output_type": "stream",
     "text": [
      "Using backend: tensorflow.compat.v1\n",
      "Other supported backends: tensorflow, pytorch, jax, paddle.\n",
      "paddle supports more examples now and is recommended.\n"
     ]
    },
    {
     "name": "stdout",
     "output_type": "stream",
     "text": [
      "WARNING:tensorflow:From C:\\Users\\Arush Chinchkhede\\anaconda3\\Lib\\site-packages\\deepxde\\backend\\tensorflow_compat_v1\\tensor.py:25: The name tf.disable_v2_behavior is deprecated. Please use tf.compat.v1.disable_v2_behavior instead.\n",
      "\n",
      "WARNING:tensorflow:From C:\\Users\\Arush Chinchkhede\\anaconda3\\Lib\\site-packages\\tensorflow\\python\\compat\\v2_compat.py:98: disable_resource_variables (from tensorflow.python.ops.resource_variables_toggle) is deprecated and will be removed in a future version.\n",
      "Instructions for updating:\n",
      "non-resource variables are not supported in the long term\n"
     ]
    }
   ],
   "source": [
    "import deepxde as dde\n",
    "import numpy as np\n",
    "import matplotlib.pyplot as plt\n",
    "import sympy as sp\n",
    "import deepxde.backend as tf"
   ]
  },
  {
   "cell_type": "code",
   "execution_count": 8,
   "id": "58e44511-fadb-4355-bb0d-9e17a3f047d4",
   "metadata": {},
   "outputs": [
    {
     "ename": "AttributeError",
     "evalue": "'function' object has no attribute 'collocation_points'",
     "output_type": "error",
     "traceback": [
      "\u001b[1;31m---------------------------------------------------------------------------\u001b[0m",
      "\u001b[1;31mAttributeError\u001b[0m                            Traceback (most recent call last)",
      "Cell \u001b[1;32mIn[8], line 56\u001b[0m\n\u001b[0;32m     53\u001b[0m net \u001b[38;5;241m=\u001b[39m dde\u001b[38;5;241m.\u001b[39mnn\u001b[38;5;241m.\u001b[39mFNN([\u001b[38;5;241m2\u001b[39m] \u001b[38;5;241m+\u001b[39m [\u001b[38;5;241m50\u001b[39m]\u001b[38;5;241m*\u001b[39m\u001b[38;5;241m4\u001b[39m \u001b[38;5;241m+\u001b[39m [\u001b[38;5;241m1\u001b[39m], \u001b[38;5;124m\"\u001b[39m\u001b[38;5;124mtanh\u001b[39m\u001b[38;5;124m\"\u001b[39m, \u001b[38;5;124m\"\u001b[39m\u001b[38;5;124mGlorot uniform\u001b[39m\u001b[38;5;124m\"\u001b[39m)  \u001b[38;5;66;03m# 2 inputs (e, n), 1 output (f)\u001b[39;00m\n\u001b[0;32m     55\u001b[0m \u001b[38;5;66;03m# Create data object for the model\u001b[39;00m\n\u001b[1;32m---> 56\u001b[0m data \u001b[38;5;241m=\u001b[39m dde\u001b[38;5;241m.\u001b[39mdata\u001b[38;5;241m.\u001b[39mPDE(\n\u001b[0;32m     57\u001b[0m     geom,\n\u001b[0;32m     58\u001b[0m     governing_equation,\n\u001b[0;32m     59\u001b[0m     boundary_conditions,\n\u001b[0;32m     60\u001b[0m     num_domain\u001b[38;5;241m=\u001b[39m\u001b[38;5;241m1000\u001b[39m,  \u001b[38;5;66;03m# Number of domain points to sample\u001b[39;00m\n\u001b[0;32m     61\u001b[0m     num_boundary\u001b[38;5;241m=\u001b[39m\u001b[38;5;241m100\u001b[39m,  \u001b[38;5;66;03m# Number of boundary points to sample\u001b[39;00m\n\u001b[0;32m     62\u001b[0m )\n\u001b[0;32m     64\u001b[0m \u001b[38;5;66;03m# Define the model\u001b[39;00m\n\u001b[0;32m     65\u001b[0m model \u001b[38;5;241m=\u001b[39m dde\u001b[38;5;241m.\u001b[39mModel(data, net)\n",
      "File \u001b[1;32m~\\anaconda3\\Lib\\site-packages\\deepxde\\data\\pde.py:130\u001b[0m, in \u001b[0;36mPDE.__init__\u001b[1;34m(self, geometry, pde, bcs, num_domain, num_boundary, train_distribution, anchors, exclusions, solution, num_test, auxiliary_var_function)\u001b[0m\n\u001b[0;32m    127\u001b[0m \u001b[38;5;28mself\u001b[39m\u001b[38;5;241m.\u001b[39mtest_x, \u001b[38;5;28mself\u001b[39m\u001b[38;5;241m.\u001b[39mtest_y \u001b[38;5;241m=\u001b[39m \u001b[38;5;28;01mNone\u001b[39;00m, \u001b[38;5;28;01mNone\u001b[39;00m\n\u001b[0;32m    128\u001b[0m \u001b[38;5;28mself\u001b[39m\u001b[38;5;241m.\u001b[39mtrain_aux_vars, \u001b[38;5;28mself\u001b[39m\u001b[38;5;241m.\u001b[39mtest_aux_vars \u001b[38;5;241m=\u001b[39m \u001b[38;5;28;01mNone\u001b[39;00m, \u001b[38;5;28;01mNone\u001b[39;00m\n\u001b[1;32m--> 130\u001b[0m \u001b[38;5;28mself\u001b[39m\u001b[38;5;241m.\u001b[39mtrain_next_batch()\n\u001b[0;32m    131\u001b[0m \u001b[38;5;28mself\u001b[39m\u001b[38;5;241m.\u001b[39mtest()\n",
      "File \u001b[1;32m~\\anaconda3\\Lib\\site-packages\\deepxde\\utils\\internal.py:38\u001b[0m, in \u001b[0;36mrun_if_all_none.<locals>.decorator.<locals>.wrapper\u001b[1;34m(self, *args, **kwargs)\u001b[0m\n\u001b[0;32m     36\u001b[0m x \u001b[38;5;241m=\u001b[39m [\u001b[38;5;28mgetattr\u001b[39m(\u001b[38;5;28mself\u001b[39m, a) \u001b[38;5;28;01mfor\u001b[39;00m a \u001b[38;5;129;01min\u001b[39;00m attr]\n\u001b[0;32m     37\u001b[0m \u001b[38;5;28;01mif\u001b[39;00m \u001b[38;5;28mall\u001b[39m(i \u001b[38;5;129;01mis\u001b[39;00m \u001b[38;5;28;01mNone\u001b[39;00m \u001b[38;5;28;01mfor\u001b[39;00m i \u001b[38;5;129;01min\u001b[39;00m x):\n\u001b[1;32m---> 38\u001b[0m     \u001b[38;5;28;01mreturn\u001b[39;00m func(\u001b[38;5;28mself\u001b[39m, \u001b[38;5;241m*\u001b[39margs, \u001b[38;5;241m*\u001b[39m\u001b[38;5;241m*\u001b[39mkwargs)\n\u001b[0;32m     39\u001b[0m \u001b[38;5;28;01mreturn\u001b[39;00m x \u001b[38;5;28;01mif\u001b[39;00m \u001b[38;5;28mlen\u001b[39m(x) \u001b[38;5;241m>\u001b[39m \u001b[38;5;241m1\u001b[39m \u001b[38;5;28;01melse\u001b[39;00m x[\u001b[38;5;241m0\u001b[39m]\n",
      "File \u001b[1;32m~\\anaconda3\\Lib\\site-packages\\deepxde\\data\\pde.py:186\u001b[0m, in \u001b[0;36mPDE.train_next_batch\u001b[1;34m(self, batch_size)\u001b[0m\n\u001b[0;32m    183\u001b[0m \u001b[38;5;129m@run_if_all_none\u001b[39m(\u001b[38;5;124m\"\u001b[39m\u001b[38;5;124mtrain_x\u001b[39m\u001b[38;5;124m\"\u001b[39m, \u001b[38;5;124m\"\u001b[39m\u001b[38;5;124mtrain_y\u001b[39m\u001b[38;5;124m\"\u001b[39m, \u001b[38;5;124m\"\u001b[39m\u001b[38;5;124mtrain_aux_vars\u001b[39m\u001b[38;5;124m\"\u001b[39m)\n\u001b[0;32m    184\u001b[0m \u001b[38;5;28;01mdef\u001b[39;00m \u001b[38;5;21mtrain_next_batch\u001b[39m(\u001b[38;5;28mself\u001b[39m, batch_size\u001b[38;5;241m=\u001b[39m\u001b[38;5;28;01mNone\u001b[39;00m):\n\u001b[0;32m    185\u001b[0m     \u001b[38;5;28mself\u001b[39m\u001b[38;5;241m.\u001b[39mtrain_x_all \u001b[38;5;241m=\u001b[39m \u001b[38;5;28mself\u001b[39m\u001b[38;5;241m.\u001b[39mtrain_points()\n\u001b[1;32m--> 186\u001b[0m     \u001b[38;5;28mself\u001b[39m\u001b[38;5;241m.\u001b[39mbc_points()  \u001b[38;5;66;03m# Generate self.num_bcs and self.train_x_bc\u001b[39;00m\n\u001b[0;32m    187\u001b[0m     \u001b[38;5;28;01mif\u001b[39;00m \u001b[38;5;28mself\u001b[39m\u001b[38;5;241m.\u001b[39mbcs \u001b[38;5;129;01mand\u001b[39;00m config\u001b[38;5;241m.\u001b[39mhvd \u001b[38;5;129;01mis\u001b[39;00m \u001b[38;5;129;01mnot\u001b[39;00m \u001b[38;5;28;01mNone\u001b[39;00m:\n\u001b[0;32m    188\u001b[0m         num_bcs \u001b[38;5;241m=\u001b[39m np\u001b[38;5;241m.\u001b[39marray(\u001b[38;5;28mself\u001b[39m\u001b[38;5;241m.\u001b[39mnum_bcs)\n",
      "File \u001b[1;32m~\\anaconda3\\Lib\\site-packages\\deepxde\\utils\\internal.py:38\u001b[0m, in \u001b[0;36mrun_if_all_none.<locals>.decorator.<locals>.wrapper\u001b[1;34m(self, *args, **kwargs)\u001b[0m\n\u001b[0;32m     36\u001b[0m x \u001b[38;5;241m=\u001b[39m [\u001b[38;5;28mgetattr\u001b[39m(\u001b[38;5;28mself\u001b[39m, a) \u001b[38;5;28;01mfor\u001b[39;00m a \u001b[38;5;129;01min\u001b[39;00m attr]\n\u001b[0;32m     37\u001b[0m \u001b[38;5;28;01mif\u001b[39;00m \u001b[38;5;28mall\u001b[39m(i \u001b[38;5;129;01mis\u001b[39;00m \u001b[38;5;28;01mNone\u001b[39;00m \u001b[38;5;28;01mfor\u001b[39;00m i \u001b[38;5;129;01min\u001b[39;00m x):\n\u001b[1;32m---> 38\u001b[0m     \u001b[38;5;28;01mreturn\u001b[39;00m func(\u001b[38;5;28mself\u001b[39m, \u001b[38;5;241m*\u001b[39margs, \u001b[38;5;241m*\u001b[39m\u001b[38;5;241m*\u001b[39mkwargs)\n\u001b[0;32m     39\u001b[0m \u001b[38;5;28;01mreturn\u001b[39;00m x \u001b[38;5;28;01mif\u001b[39;00m \u001b[38;5;28mlen\u001b[39m(x) \u001b[38;5;241m>\u001b[39m \u001b[38;5;241m1\u001b[39m \u001b[38;5;28;01melse\u001b[39;00m x[\u001b[38;5;241m0\u001b[39m]\n",
      "File \u001b[1;32m~\\anaconda3\\Lib\\site-packages\\deepxde\\data\\pde.py:298\u001b[0m, in \u001b[0;36mPDE.bc_points\u001b[1;34m(self)\u001b[0m\n\u001b[0;32m    296\u001b[0m \u001b[38;5;129m@run_if_all_none\u001b[39m(\u001b[38;5;124m\"\u001b[39m\u001b[38;5;124mtrain_x_bc\u001b[39m\u001b[38;5;124m\"\u001b[39m)\n\u001b[0;32m    297\u001b[0m \u001b[38;5;28;01mdef\u001b[39;00m \u001b[38;5;21mbc_points\u001b[39m(\u001b[38;5;28mself\u001b[39m):\n\u001b[1;32m--> 298\u001b[0m     x_bcs \u001b[38;5;241m=\u001b[39m [bc\u001b[38;5;241m.\u001b[39mcollocation_points(\u001b[38;5;28mself\u001b[39m\u001b[38;5;241m.\u001b[39mtrain_x_all) \u001b[38;5;28;01mfor\u001b[39;00m bc \u001b[38;5;129;01min\u001b[39;00m \u001b[38;5;28mself\u001b[39m\u001b[38;5;241m.\u001b[39mbcs]\n\u001b[0;32m    299\u001b[0m     \u001b[38;5;28mself\u001b[39m\u001b[38;5;241m.\u001b[39mnum_bcs \u001b[38;5;241m=\u001b[39m \u001b[38;5;28mlist\u001b[39m(\u001b[38;5;28mmap\u001b[39m(\u001b[38;5;28mlen\u001b[39m, x_bcs))\n\u001b[0;32m    300\u001b[0m     \u001b[38;5;28mself\u001b[39m\u001b[38;5;241m.\u001b[39mtrain_x_bc \u001b[38;5;241m=\u001b[39m (\n\u001b[0;32m    301\u001b[0m         np\u001b[38;5;241m.\u001b[39mvstack(x_bcs)\n\u001b[0;32m    302\u001b[0m         \u001b[38;5;28;01mif\u001b[39;00m x_bcs\n\u001b[0;32m    303\u001b[0m         \u001b[38;5;28;01melse\u001b[39;00m np\u001b[38;5;241m.\u001b[39mempty([\u001b[38;5;241m0\u001b[39m, \u001b[38;5;28mself\u001b[39m\u001b[38;5;241m.\u001b[39mtrain_x_all\u001b[38;5;241m.\u001b[39mshape[\u001b[38;5;241m-\u001b[39m\u001b[38;5;241m1\u001b[39m]], dtype\u001b[38;5;241m=\u001b[39mconfig\u001b[38;5;241m.\u001b[39mreal(np))\n\u001b[0;32m    304\u001b[0m     )\n",
      "File \u001b[1;32m~\\anaconda3\\Lib\\site-packages\\deepxde\\data\\pde.py:298\u001b[0m, in \u001b[0;36m<listcomp>\u001b[1;34m(.0)\u001b[0m\n\u001b[0;32m    296\u001b[0m \u001b[38;5;129m@run_if_all_none\u001b[39m(\u001b[38;5;124m\"\u001b[39m\u001b[38;5;124mtrain_x_bc\u001b[39m\u001b[38;5;124m\"\u001b[39m)\n\u001b[0;32m    297\u001b[0m \u001b[38;5;28;01mdef\u001b[39;00m \u001b[38;5;21mbc_points\u001b[39m(\u001b[38;5;28mself\u001b[39m):\n\u001b[1;32m--> 298\u001b[0m     x_bcs \u001b[38;5;241m=\u001b[39m [bc\u001b[38;5;241m.\u001b[39mcollocation_points(\u001b[38;5;28mself\u001b[39m\u001b[38;5;241m.\u001b[39mtrain_x_all) \u001b[38;5;28;01mfor\u001b[39;00m bc \u001b[38;5;129;01min\u001b[39;00m \u001b[38;5;28mself\u001b[39m\u001b[38;5;241m.\u001b[39mbcs]\n\u001b[0;32m    299\u001b[0m     \u001b[38;5;28mself\u001b[39m\u001b[38;5;241m.\u001b[39mnum_bcs \u001b[38;5;241m=\u001b[39m \u001b[38;5;28mlist\u001b[39m(\u001b[38;5;28mmap\u001b[39m(\u001b[38;5;28mlen\u001b[39m, x_bcs))\n\u001b[0;32m    300\u001b[0m     \u001b[38;5;28mself\u001b[39m\u001b[38;5;241m.\u001b[39mtrain_x_bc \u001b[38;5;241m=\u001b[39m (\n\u001b[0;32m    301\u001b[0m         np\u001b[38;5;241m.\u001b[39mvstack(x_bcs)\n\u001b[0;32m    302\u001b[0m         \u001b[38;5;28;01mif\u001b[39;00m x_bcs\n\u001b[0;32m    303\u001b[0m         \u001b[38;5;28;01melse\u001b[39;00m np\u001b[38;5;241m.\u001b[39mempty([\u001b[38;5;241m0\u001b[39m, \u001b[38;5;28mself\u001b[39m\u001b[38;5;241m.\u001b[39mtrain_x_all\u001b[38;5;241m.\u001b[39mshape[\u001b[38;5;241m-\u001b[39m\u001b[38;5;241m1\u001b[39m]], dtype\u001b[38;5;241m=\u001b[39mconfig\u001b[38;5;241m.\u001b[39mreal(np))\n\u001b[0;32m    304\u001b[0m     )\n",
      "\u001b[1;31mAttributeError\u001b[0m: 'function' object has no attribute 'collocation_points'"
     ]
    }
   ],
   "source": [
    "import deepxde as dde\n",
    "import numpy as np\n",
    "import tensorflow as tf\n",
    "\n",
    "# Define the domain for e and n using DeepXDE's built-in Rectangle geometry\n",
    "geom = dde.geometry.Rectangle([0.0, 0.0], [1.0, 10.0])  # 2D domain (e, n)\n",
    "\n",
    "# Define the PDE (governing equation)\n",
    "def governing_equation(x, y):\n",
    "    e = x[:, 0:1]  # e is the first column\n",
    "    n = x[:, 1:2]  # n is the second column\n",
    "    \n",
    "    f = y  # Output of the network\n",
    "    \n",
    "    # Compute derivatives\n",
    "    f_n = dde.grad.jacobian(f, n)  # f'_n\n",
    "    f_nn = dde.grad.jacobian(f_n, n)  # f''_n\n",
    "    f_nnn = dde.grad.jacobian(f_nn, n)  # f'''_n\n",
    "    f_e = dde.grad.jacobian(f, e)  # f'_e\n",
    "    f_n_eta = dde.grad.jacobian(f_n, e)  # (f'_n)_eta\n",
    "    \n",
    "    # Define the beta function\n",
    "    viscosity = 1  # Example value for viscosity\n",
    "    u_inf = 1  # Example value for u_infinity\n",
    "    beta = (viscosity * e) / (3 * u_inf)\n",
    "    \n",
    "    # Compute the left-hand side of the equation\n",
    "    lhs = f_nnn + f * f_nn + beta * (1 + f_n**2)\n",
    "    \n",
    "    # Compute the right-hand side of the equation\n",
    "    rhs = 2 * e * (f_n * f_n_eta - f_e * f_nn)\n",
    "    \n",
    "    # Return the residual of the PDE\n",
    "    return lhs - rhs\n",
    "\n",
    "# Define boundary conditions as DirichletBC objects\n",
    "def boundary_conditions(x, y):\n",
    "    e = x[:, 0:1]\n",
    "    n = x[:, 1:2]\n",
    "    \n",
    "    # f(e, 0) = 0\n",
    "    bc1 = dde.DirichletBC(geom, y, lambda x: 0, condition=lambda x: np.isclose(x[:, 1:2], 0))\n",
    "    \n",
    "    # f'_n(e, 0) = 0\n",
    "    bc2 = dde.DirichletBC(geom, dde.grad.jacobian(y, n), lambda x: 0, condition=lambda x: np.isclose(x[:, 1:2], 0))\n",
    "    \n",
    "    # f'_n(e, n_max) = 1 (as n approaches the maximum value of the domain)\n",
    "    bc3 = dde.DirichletBC(geom, dde.grad.jacobian(y, n), lambda x: 1, condition=lambda x: np.isclose(x[:, 1:2], 10))\n",
    "    \n",
    "    return [bc1, bc2, bc3]\n",
    "\n",
    "# Define the neural network architecture\n",
    "net = dde.nn.FNN([2] + [50]*4 + [1], \"tanh\", \"Glorot uniform\")  # 2 inputs (e, n), 1 output (f)\n",
    "\n",
    "# Create data object for the model\n",
    "data = dde.data.PDE(\n",
    "    geom,\n",
    "    governing_equation,\n",
    "    boundary_conditions,\n",
    "    num_domain=1000,  # Number of domain points to sample\n",
    "    num_boundary=100,  # Number of boundary points to sample\n",
    ")\n",
    "\n",
    "# Define the model\n",
    "model = dde.Model(data, net)\n",
    "\n",
    "# Compile the model\n",
    "model.compile(\"adam\", lr=1e-3)\n",
    "\n",
    "# Train the model\n",
    "model.train(epochs=10000)\n",
    "\n",
    "# Save the trained model\n",
    "model.save(\"trained_model\")\n"
   ]
  }
 ],
 "metadata": {
  "kernelspec": {
   "display_name": "Python 3 (ipykernel)",
   "language": "python",
   "name": "python3"
  },
  "language_info": {
   "codemirror_mode": {
    "name": "ipython",
    "version": 3
   },
   "file_extension": ".py",
   "mimetype": "text/x-python",
   "name": "python",
   "nbconvert_exporter": "python",
   "pygments_lexer": "ipython3",
   "version": "3.11.7"
  }
 },
 "nbformat": 4,
 "nbformat_minor": 5
}
